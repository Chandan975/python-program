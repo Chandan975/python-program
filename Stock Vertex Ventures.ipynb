{
 "cells": [
  {
   "cell_type": "code",
   "execution_count": 6,
   "id": "1df0dbce",
   "metadata": {},
   "outputs": [],
   "source": [
    "#import most important libraries\n",
    "import pandas as pd\n",
    "import numpy as np\n",
    "import matplotlib.pyplot as plt"
   ]
  },
  {
   "cell_type": "code",
   "execution_count": 9,
   "id": "c5313a77",
   "metadata": {},
   "outputs": [
    {
     "name": "stdout",
     "output_type": "stream",
     "text": [
      "  INSTRUMENT     SYMBOL    EXPIRY_DT  STRIKE_PR OPTION_TYP      OPEN     HIGH   \n",
      "0     FUTIDX  BANKNIFTY  29-Dec-2022        0.0         XX  43680.40  43699.0  \\\n",
      "1     FUTIDX  BANKNIFTY  25-Jan-2023        0.0         XX  43890.70  43939.4   \n",
      "2     FUTIDX  BANKNIFTY  23-Feb-2023        0.0         XX  44129.95  44170.8   \n",
      "3     FUTIDX   FINNIFTY  27-Dec-2022        0.0         XX  19571.75  19596.4   \n",
      "4     FUTIDX   FINNIFTY  31-Jan-2023        0.0         XX  19644.90  19644.9   \n",
      "\n",
      "       LOW     CLOSE  SETTLE_PR  CONTRACTS  VAL_INLAKH  OPEN_INT  CHG_IN_OI   \n",
      "0  43323.0  43475.15   43475.15     119513  1300756.64   2808250     -13300  \\\n",
      "1  43600.0  43735.80   43735.80       3771    41290.02    291025       1175   \n",
      "2  43816.8  43961.35   43961.35       1122    12352.62     21625       3675   \n",
      "3  19456.2  19499.70   19499.70        176     1373.53      6720       -200   \n",
      "4  19644.9  19644.90   19585.20          2       15.71       320        -80   \n",
      "\n",
      "     TIMESTAMP  Unnamed: 15  \n",
      "0  01-DEC-2022          NaN  \n",
      "1  01-DEC-2022          NaN  \n",
      "2  01-DEC-2022          NaN  \n",
      "3  01-DEC-2022          NaN  \n",
      "4  01-DEC-2022          NaN  \n"
     ]
    }
   ],
   "source": [
    "df = pd.read_csv('Downloads/Stock Vertex Ventures/fo01Dec2022bhav.csv')\n",
    "print(df.head())"
   ]
  },
  {
   "cell_type": "code",
   "execution_count": 8,
   "id": "ff7f7b8a",
   "metadata": {},
   "outputs": [
    {
     "name": "stdout",
     "output_type": "stream",
     "text": [
      "842528\n",
      "2\n",
      "(52658, 16)\n",
      "INSTRUMENT      object\n",
      "SYMBOL          object\n",
      "EXPIRY_DT       object\n",
      "STRIKE_PR      float64\n",
      "OPTION_TYP      object\n",
      "OPEN           float64\n",
      "HIGH           float64\n",
      "LOW            float64\n",
      "CLOSE          float64\n",
      "SETTLE_PR      float64\n",
      "CONTRACTS        int64\n",
      "VAL_INLAKH     float64\n",
      "OPEN_INT         int64\n",
      "CHG_IN_OI        int64\n",
      "TIMESTAMP       object\n",
      "Unnamed: 15    float64\n",
      "dtype: object\n"
     ]
    }
   ],
   "source": [
    "#check data information\n",
    "print(df.size)\n",
    "print(df.ndim)\n",
    "print(df.shape)\n",
    "print(df.dtypes)"
   ]
  },
  {
   "cell_type": "code",
   "execution_count": 9,
   "id": "d827d027",
   "metadata": {},
   "outputs": [
    {
     "data": {
      "text/html": [
       "<div>\n",
       "<style scoped>\n",
       "    .dataframe tbody tr th:only-of-type {\n",
       "        vertical-align: middle;\n",
       "    }\n",
       "\n",
       "    .dataframe tbody tr th {\n",
       "        vertical-align: top;\n",
       "    }\n",
       "\n",
       "    .dataframe thead th {\n",
       "        text-align: right;\n",
       "    }\n",
       "</style>\n",
       "<table border=\"1\" class=\"dataframe\">\n",
       "  <thead>\n",
       "    <tr style=\"text-align: right;\">\n",
       "      <th></th>\n",
       "      <th>STRIKE_PR</th>\n",
       "      <th>OPEN</th>\n",
       "      <th>HIGH</th>\n",
       "      <th>LOW</th>\n",
       "      <th>CLOSE</th>\n",
       "      <th>SETTLE_PR</th>\n",
       "      <th>CONTRACTS</th>\n",
       "      <th>VAL_INLAKH</th>\n",
       "      <th>OPEN_INT</th>\n",
       "      <th>CHG_IN_OI</th>\n",
       "      <th>Unnamed: 15</th>\n",
       "    </tr>\n",
       "  </thead>\n",
       "  <tbody>\n",
       "    <tr>\n",
       "      <th>count</th>\n",
       "      <td>52658.000000</td>\n",
       "      <td>52658.000000</td>\n",
       "      <td>52658.000000</td>\n",
       "      <td>52658.000000</td>\n",
       "      <td>52658.000000</td>\n",
       "      <td>52658.000000</td>\n",
       "      <td>5.265800e+04</td>\n",
       "      <td>5.265800e+04</td>\n",
       "      <td>5.265800e+04</td>\n",
       "      <td>5.265800e+04</td>\n",
       "      <td>0.0</td>\n",
       "    </tr>\n",
       "    <tr>\n",
       "      <th>mean</th>\n",
       "      <td>5416.460177</td>\n",
       "      <td>58.326950</td>\n",
       "      <td>60.375666</td>\n",
       "      <td>56.516923</td>\n",
       "      <td>449.921304</td>\n",
       "      <td>711.126527</td>\n",
       "      <td>5.998336e+03</td>\n",
       "      <td>6.134360e+04</td>\n",
       "      <td>1.683519e+05</td>\n",
       "      <td>4.057098e+03</td>\n",
       "      <td>NaN</td>\n",
       "    </tr>\n",
       "    <tr>\n",
       "      <th>std</th>\n",
       "      <td>12036.320974</td>\n",
       "      <td>1012.810409</td>\n",
       "      <td>1026.410002</td>\n",
       "      <td>1007.908939</td>\n",
       "      <td>1731.194431</td>\n",
       "      <td>3551.623248</td>\n",
       "      <td>2.317454e+05</td>\n",
       "      <td>2.404106e+06</td>\n",
       "      <td>3.415573e+06</td>\n",
       "      <td>1.365178e+05</td>\n",
       "      <td>NaN</td>\n",
       "    </tr>\n",
       "    <tr>\n",
       "      <th>min</th>\n",
       "      <td>0.000000</td>\n",
       "      <td>0.000000</td>\n",
       "      <td>0.000000</td>\n",
       "      <td>0.000000</td>\n",
       "      <td>0.050000</td>\n",
       "      <td>0.000000</td>\n",
       "      <td>0.000000e+00</td>\n",
       "      <td>0.000000e+00</td>\n",
       "      <td>0.000000e+00</td>\n",
       "      <td>-7.835400e+06</td>\n",
       "      <td>NaN</td>\n",
       "    </tr>\n",
       "    <tr>\n",
       "      <th>25%</th>\n",
       "      <td>350.000000</td>\n",
       "      <td>0.000000</td>\n",
       "      <td>0.000000</td>\n",
       "      <td>0.000000</td>\n",
       "      <td>11.950000</td>\n",
       "      <td>7.400000</td>\n",
       "      <td>0.000000e+00</td>\n",
       "      <td>0.000000e+00</td>\n",
       "      <td>0.000000e+00</td>\n",
       "      <td>0.000000e+00</td>\n",
       "      <td>NaN</td>\n",
       "    </tr>\n",
       "    <tr>\n",
       "      <th>50%</th>\n",
       "      <td>1060.000000</td>\n",
       "      <td>0.000000</td>\n",
       "      <td>0.000000</td>\n",
       "      <td>0.000000</td>\n",
       "      <td>57.500000</td>\n",
       "      <td>49.100000</td>\n",
       "      <td>0.000000e+00</td>\n",
       "      <td>0.000000e+00</td>\n",
       "      <td>0.000000e+00</td>\n",
       "      <td>0.000000e+00</td>\n",
       "      <td>NaN</td>\n",
       "    </tr>\n",
       "    <tr>\n",
       "      <th>75%</th>\n",
       "      <td>3400.000000</td>\n",
       "      <td>0.000000</td>\n",
       "      <td>0.000000</td>\n",
       "      <td>0.000000</td>\n",
       "      <td>258.375000</td>\n",
       "      <td>246.800000</td>\n",
       "      <td>0.000000e+00</td>\n",
       "      <td>0.000000e+00</td>\n",
       "      <td>0.000000e+00</td>\n",
       "      <td>0.000000e+00</td>\n",
       "      <td>NaN</td>\n",
       "    </tr>\n",
       "    <tr>\n",
       "      <th>max</th>\n",
       "      <td>109500.000000</td>\n",
       "      <td>93992.800000</td>\n",
       "      <td>95657.200000</td>\n",
       "      <td>93833.300000</td>\n",
       "      <td>94765.200000</td>\n",
       "      <td>94765.200000</td>\n",
       "      <td>1.757302e+07</td>\n",
       "      <td>1.875094e+08</td>\n",
       "      <td>5.169500e+08</td>\n",
       "      <td>8.876650e+06</td>\n",
       "      <td>NaN</td>\n",
       "    </tr>\n",
       "  </tbody>\n",
       "</table>\n",
       "</div>"
      ],
      "text/plain": [
       "           STRIKE_PR          OPEN          HIGH           LOW         CLOSE   \n",
       "count   52658.000000  52658.000000  52658.000000  52658.000000  52658.000000  \\\n",
       "mean     5416.460177     58.326950     60.375666     56.516923    449.921304   \n",
       "std     12036.320974   1012.810409   1026.410002   1007.908939   1731.194431   \n",
       "min         0.000000      0.000000      0.000000      0.000000      0.050000   \n",
       "25%       350.000000      0.000000      0.000000      0.000000     11.950000   \n",
       "50%      1060.000000      0.000000      0.000000      0.000000     57.500000   \n",
       "75%      3400.000000      0.000000      0.000000      0.000000    258.375000   \n",
       "max    109500.000000  93992.800000  95657.200000  93833.300000  94765.200000   \n",
       "\n",
       "          SETTLE_PR     CONTRACTS    VAL_INLAKH      OPEN_INT     CHG_IN_OI   \n",
       "count  52658.000000  5.265800e+04  5.265800e+04  5.265800e+04  5.265800e+04  \\\n",
       "mean     711.126527  5.998336e+03  6.134360e+04  1.683519e+05  4.057098e+03   \n",
       "std     3551.623248  2.317454e+05  2.404106e+06  3.415573e+06  1.365178e+05   \n",
       "min        0.000000  0.000000e+00  0.000000e+00  0.000000e+00 -7.835400e+06   \n",
       "25%        7.400000  0.000000e+00  0.000000e+00  0.000000e+00  0.000000e+00   \n",
       "50%       49.100000  0.000000e+00  0.000000e+00  0.000000e+00  0.000000e+00   \n",
       "75%      246.800000  0.000000e+00  0.000000e+00  0.000000e+00  0.000000e+00   \n",
       "max    94765.200000  1.757302e+07  1.875094e+08  5.169500e+08  8.876650e+06   \n",
       "\n",
       "       Unnamed: 15  \n",
       "count          0.0  \n",
       "mean           NaN  \n",
       "std            NaN  \n",
       "min            NaN  \n",
       "25%            NaN  \n",
       "50%            NaN  \n",
       "75%            NaN  \n",
       "max            NaN  "
      ]
     },
     "execution_count": 9,
     "metadata": {},
     "output_type": "execute_result"
    }
   ],
   "source": [
    "#data analysis for understand dataset\n",
    "df.describe()"
   ]
  },
  {
   "cell_type": "code",
   "execution_count": 10,
   "id": "9929f5d8",
   "metadata": {},
   "outputs": [
    {
     "data": {
      "text/plain": [
       "Index(['INSTRUMENT', 'SYMBOL', 'EXPIRY_DT', 'STRIKE_PR', 'OPTION_TYP', 'OPEN',\n",
       "       'HIGH', 'LOW', 'CLOSE', 'SETTLE_PR', 'CONTRACTS', 'VAL_INLAKH',\n",
       "       'OPEN_INT', 'CHG_IN_OI', 'TIMESTAMP', 'Unnamed: 15'],\n",
       "      dtype='object')"
      ]
     },
     "execution_count": 10,
     "metadata": {},
     "output_type": "execute_result"
    }
   ],
   "source": [
    "df.columns"
   ]
  },
  {
   "cell_type": "code",
   "execution_count": 11,
   "id": "c68b0dbb",
   "metadata": {},
   "outputs": [
    {
     "name": "stdout",
     "output_type": "stream",
     "text": [
      "      INSTRUMENT     SYMBOL    EXPIRY_DT  STRIKE_PR OPTION_TYP      OPEN   \n",
      "0         FUTIDX  BANKNIFTY  29-Dec-2022        0.0         XX  43680.40  \\\n",
      "1         FUTIDX  BANKNIFTY  25-Jan-2023        0.0         XX  43890.70   \n",
      "2         FUTIDX  BANKNIFTY  23-Feb-2023        0.0         XX  44129.95   \n",
      "3         FUTIDX   FINNIFTY  27-Dec-2022        0.0         XX  19571.75   \n",
      "4         FUTIDX   FINNIFTY  31-Jan-2023        0.0         XX  19644.90   \n",
      "...          ...        ...          ...        ...        ...       ...   \n",
      "52653     OPTSTK  ZYDUSLIFE  23-Feb-2023      450.0         PE      0.00   \n",
      "52654     OPTSTK  ZYDUSLIFE  23-Feb-2023      455.0         PE      0.00   \n",
      "52655     OPTSTK  ZYDUSLIFE  23-Feb-2023      460.0         PE      0.00   \n",
      "52656     OPTSTK  ZYDUSLIFE  23-Feb-2023      465.0         PE      0.00   \n",
      "52657     OPTSTK  ZYDUSLIFE  23-Feb-2023      470.0         PE      0.00   \n",
      "\n",
      "          HIGH      LOW     CLOSE  SETTLE_PR  CONTRACTS  VAL_INLAKH  OPEN_INT   \n",
      "0      43699.0  43323.0  43475.15   43475.15     119513  1300756.64   2808250  \\\n",
      "1      43939.4  43600.0  43735.80   43735.80       3771    41290.02    291025   \n",
      "2      44170.8  43816.8  43961.35   43961.35       1122    12352.62     21625   \n",
      "3      19596.4  19456.2  19499.70   19499.70        176     1373.53      6720   \n",
      "4      19644.9  19644.9  19644.90   19585.20          2       15.71       320   \n",
      "...        ...      ...       ...        ...        ...         ...       ...   \n",
      "52653      0.0      0.0     59.70      46.40          0        0.00         0   \n",
      "52654      0.0      0.0     63.60      49.95          0        0.00         0   \n",
      "52655      0.0      0.0     67.60      53.60          0        0.00         0   \n",
      "52656      0.0      0.0     71.70      57.40          0        0.00         0   \n",
      "52657      0.0      0.0     75.85      61.25          0        0.00         0   \n",
      "\n",
      "       CHG_IN_OI    TIMESTAMP  Unnamed: 15 comparison  \n",
      "0         -13300  01-DEC-2022          NaN    Greater  \n",
      "1           1175  01-DEC-2022          NaN    Greater  \n",
      "2           3675  01-DEC-2022          NaN    Greater  \n",
      "3           -200  01-DEC-2022          NaN    Greater  \n",
      "4            -80  01-DEC-2022          NaN    Greater  \n",
      "...          ...          ...          ...        ...  \n",
      "52653          0  01-DEC-2022          NaN       Less  \n",
      "52654          0  01-DEC-2022          NaN       Less  \n",
      "52655          0  01-DEC-2022          NaN       Less  \n",
      "52656          0  01-DEC-2022          NaN       Less  \n",
      "52657          0  01-DEC-2022          NaN       Less  \n",
      "\n",
      "[52658 rows x 17 columns]\n"
     ]
    }
   ],
   "source": [
    "# Convert the CLOSE column to numeric if needed\n",
    "df['CLOSE'] = pd.to_numeric(df['CLOSE'], errors='coerce')"
   ]
  },
  {
   "cell_type": "code",
   "execution_count": null,
   "id": "5144825e",
   "metadata": {},
   "outputs": [],
   "source": [
    "# Calculate the average close price for the month\n",
    "average_close_price = df['CLOSE'].mean()"
   ]
  },
  {
   "cell_type": "code",
   "execution_count": null,
   "id": "70f3bc49",
   "metadata": {},
   "outputs": [],
   "source": [
    "# Create a new column and initialize with empty values\n",
    "df['comparison'] = ''\n",
    "\n",
    "# Iterate through each row and compare close prices\n",
    "for index, row in df.iterrows():\n",
    "    if row['CLOSE'] > average_close_price:\n",
    "        df.at[index, 'comparison'] = 'Greater'\n",
    "    else:\n",
    "        df.at[index, 'comparison'] = 'Less'"
   ]
  },
  {
   "cell_type": "code",
   "execution_count": 13,
   "id": "3ab22592",
   "metadata": {},
   "outputs": [
    {
     "name": "stdout",
     "output_type": "stream",
     "text": [
      "      INSTRUMENT     SYMBOL    EXPIRY_DT  STRIKE_PR OPTION_TYP      OPEN   \n",
      "0         FUTIDX  BANKNIFTY  29-Dec-2022        0.0         XX  43680.40  \\\n",
      "1         FUTIDX  BANKNIFTY  25-Jan-2023        0.0         XX  43890.70   \n",
      "2         FUTIDX  BANKNIFTY  23-Feb-2023        0.0         XX  44129.95   \n",
      "3         FUTIDX   FINNIFTY  27-Dec-2022        0.0         XX  19571.75   \n",
      "4         FUTIDX   FINNIFTY  31-Jan-2023        0.0         XX  19644.90   \n",
      "...          ...        ...          ...        ...        ...       ...   \n",
      "52653     OPTSTK  ZYDUSLIFE  23-Feb-2023      450.0         PE      0.00   \n",
      "52654     OPTSTK  ZYDUSLIFE  23-Feb-2023      455.0         PE      0.00   \n",
      "52655     OPTSTK  ZYDUSLIFE  23-Feb-2023      460.0         PE      0.00   \n",
      "52656     OPTSTK  ZYDUSLIFE  23-Feb-2023      465.0         PE      0.00   \n",
      "52657     OPTSTK  ZYDUSLIFE  23-Feb-2023      470.0         PE      0.00   \n",
      "\n",
      "          HIGH      LOW     CLOSE  SETTLE_PR  CONTRACTS  VAL_INLAKH  OPEN_INT   \n",
      "0      43699.0  43323.0  43475.15   43475.15     119513  1300756.64   2808250  \\\n",
      "1      43939.4  43600.0  43735.80   43735.80       3771    41290.02    291025   \n",
      "2      44170.8  43816.8  43961.35   43961.35       1122    12352.62     21625   \n",
      "3      19596.4  19456.2  19499.70   19499.70        176     1373.53      6720   \n",
      "4      19644.9  19644.9  19644.90   19585.20          2       15.71       320   \n",
      "...        ...      ...       ...        ...        ...         ...       ...   \n",
      "52653      0.0      0.0     59.70      46.40          0        0.00         0   \n",
      "52654      0.0      0.0     63.60      49.95          0        0.00         0   \n",
      "52655      0.0      0.0     67.60      53.60          0        0.00         0   \n",
      "52656      0.0      0.0     71.70      57.40          0        0.00         0   \n",
      "52657      0.0      0.0     75.85      61.25          0        0.00         0   \n",
      "\n",
      "       CHG_IN_OI    TIMESTAMP  Unnamed: 15 comparison  \n",
      "0         -13300  01-DEC-2022          NaN    Greater  \n",
      "1           1175  01-DEC-2022          NaN    Greater  \n",
      "2           3675  01-DEC-2022          NaN    Greater  \n",
      "3           -200  01-DEC-2022          NaN    Greater  \n",
      "4            -80  01-DEC-2022          NaN    Greater  \n",
      "...          ...          ...          ...        ...  \n",
      "52653          0  01-DEC-2022          NaN       Less  \n",
      "52654          0  01-DEC-2022          NaN       Less  \n",
      "52655          0  01-DEC-2022          NaN       Less  \n",
      "52656          0  01-DEC-2022          NaN       Less  \n",
      "52657          0  01-DEC-2022          NaN       Less  \n",
      "\n",
      "[52658 rows x 17 columns]\n"
     ]
    }
   ],
   "source": [
    "# Save the modified dataframe as a CSV file\n",
    "df.to_csv('modified_dataset.csv', index=False)\n",
    "\n",
    "# Display the modified dataframe\n",
    "print(df)"
   ]
  },
  {
   "cell_type": "code",
   "execution_count": 14,
   "id": "6b26c629",
   "metadata": {},
   "outputs": [
    {
     "data": {
      "image/png": "[encoded data removed]",
      "text/plain": [
       "<Figure size 640x480 with 1 Axes>"
      ]
     },
     "metadata": {},
     "output_type": "display_data"
    }
   ],
   "source": [
    "# Load the modified dataset into a dataframe\n",
    "df = pd.read_csv('modified_dataset.csv')\n",
    "\n",
    "# Plot the close prices over time\n",
    "plt.plot(df['TIMESTAMP'], df['CLOSE'])\n",
    "plt.xlabel('Date')\n",
    "plt.ylabel('Close Price')\n",
    "plt.title('Close Prices Over Time')\n",
    "plt.xticks(rotation=45)\n",
    "plt.show()\n"
   ]
  },
  {
   "cell_type": "code",
   "execution_count": null,
   "id": "d7b50daa",
   "metadata": {},
   "outputs": [],
   "source": []
  }
 ],
 "metadata": {
  "kernelspec": {
   "display_name": "Python 3 (ipykernel)",
   "language": "python",
   "name": "python3"
  },
  "language_info": {
   "codemirror_mode": {
    "name": "ipython",
    "version": 3
   },
   "file_extension": ".py",
   "mimetype": "text/x-python",
   "name": "python",
   "nbconvert_exporter": "python",
   "pygments_lexer": "ipython3",
   "version": "3.10.11"
  }
 },
 "nbformat": 4,
 "nbformat_minor": 5
}
