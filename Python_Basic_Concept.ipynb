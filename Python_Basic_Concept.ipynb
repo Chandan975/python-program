{
 "cells": [
  {
   "cell_type": "code",
   "execution_count": 1,
   "id": "3f26666b",
   "metadata": {},
   "outputs": [],
   "source": [
    "# What is Python?\n",
    "# Python is a popular programming language. It was created by Guido van Rossum, and released in 1991.\n",
    "\n",
    "# It is used for:\n",
    "\n",
    "# web development (server-side),\n",
    "# software development,\n",
    "# mathematics,\n",
    "# system scripting.\n",
    "# What can Python do?\n",
    "# Python can be used on a server to create web applications.\n",
    "# Python can be used alongside software to create workflows.\n",
    "# Python can connect to database systems. It can also read and modify files.\n",
    "# Python can be used to handle big data and perform complex mathematics.\n",
    "# Python can be used for rapid prototyping, or for production-ready software development.\n",
    "# Why Python?\n",
    "# Python works on different platforms (Windows, Mac, Linux, Raspberry Pi, etc).\n",
    "# Python has a simple syntax similar to the English language.\n",
    "# Python has syntax that allows developers to write programs with fewer lines than some other programming languages.\n",
    "# Python runs on an interpreter system, meaning that code can be executed as soon as it is written. This means that prototyping can be very quick.\n",
    "# Python can be treated in a procedural way, an object-oriented way or a functional way.\n",
    "# Good to know\n",
    "# The most recent major version of Python is Python 3, which we shall be using in this tutorial. However, Python 2, although not being updated with anything other than security updates, is still quite popular.\n",
    "# In this tutorial Python will be written in a text editor. It is possible to write Python in an Integrated Development Environment, such as Thonny, Pycharm, Netbeans or Eclipse which are particularly useful when managing larger collections of Python files.\n",
    "# Python Syntax compared to other programming languages\n",
    "# Python was designed for readability, and has some similarities to the English language with influence from mathematics.\n",
    "# Python uses new lines to complete a command, as opposed to other programming languages which often use semicolons or parentheses.\n",
    "# Python relies on indentation, using whitespace, to define scope; such as the scope of loops, functions and classes. Other programming languages often use curly-brackets for this purpose."
   ]
  },
  {
   "cell_type": "code",
   "execution_count": 2,
   "id": "476d77c3",
   "metadata": {},
   "outputs": [
    {
     "name": "stdout",
     "output_type": "stream",
     "text": [
      "hello\n",
      "hello2\n"
     ]
    }
   ],
   "source": [
    "#---------------------------------------print() function-------------------------------------\n",
    "# Definition and Usage\n",
    "# The print() function prints the specified message to the screen, or other standard output device.\n",
    "\n",
    "# The message can be a string, or any other object, the object will be converted into a string before written to the screen.\n",
    "\n",
    "# Syntax\n",
    "# print(object(s), sep=separator, end=end, file=file, flush=flush)\n",
    "# Parameter Values\n",
    "# Parameter\tDescription\n",
    "# object(s)\tAny object, and as many as you like. Will be converted to string before printed\n",
    "# sep='separator'\tOptional. Specify how to separate the objects, if there is more than one. Default is ' '\n",
    "# end='end'\tOptional. Specify what to print at the end. Default is '\\n' (line feed)\n",
    "# file\tOptional. An object with a write method. Default is sys.stdout\n",
    "# flush\tOptional. A Boolean, specifying if the output is flushed (True) or buffered (False). Default is False\n",
    "print(\"hello\")\n",
    "print(f\"hello{1}\")"
   ]
  },
  {
   "cell_type": "code",
   "execution_count": 3,
   "id": "e41bd445",
   "metadata": {},
   "outputs": [],
   "source": [
    "#----------python variable nameming-----------------------------------------------------------\n",
    "#1)python not accept special character and number\n",
    "# Variable Names\n",
    "# A variable can have a short name (like x and y) or a more descriptive name (age, carname, total_volume).\n",
    "\n",
    "# Rules for Python variables:\n",
    "\n",
    "# A variable name must start with a letter or the underscore character\n",
    "# A variable name cannot start with a number\n",
    "# A variable name can only contain alpha-numeric characters and underscores (A-z, 0-9, and _ )\n",
    "# Variable names are case-sensitive (age, Age and AGE are three different variables)"
   ]
  },
  {
   "cell_type": "code",
   "execution_count": 6,
   "id": "76053b54",
   "metadata": {},
   "outputs": [
    {
     "name": "stdout",
     "output_type": "stream",
     "text": [
      "10 dj 1 2 1 2 3\n"
     ]
    }
   ],
   "source": [
    "i=10 #correct\n",
    "s='a'#correct\n",
    "_d= 1 #correct\n",
    "__d= 2 #correct\n",
    "A,a,Aa=1,2,3 #correct\n",
    "print(f\"{i} {s} {_d} {__d} {A} {a} {Aa}\")\n",
    "# 1e=1 #incorrect\n",
    "# @d=1 #incorrect\n"
   ]
  },
  {
   "cell_type": "code",
   "execution_count": 25,
   "id": "16d26135",
   "metadata": {},
   "outputs": [],
   "source": [
    "#python data type-------------five type---------------------------\n",
    "#(i)Sequence type------>List,tuble,string,rangeT\n",
    "#(ii)numeric type======>int,float,complex\n",
    "#(iii)boolean type----->bool.t\n",
    "#(iv)dict\n",
    "#(v)set"
   ]
  },
  {
   "cell_type": "code",
   "execution_count": 26,
   "id": "948135a0",
   "metadata": {},
   "outputs": [
    {
     "name": "stdout",
     "output_type": "stream",
     "text": [
      "1 all numeric data type (10, <class 'int'>)(10.55, <class 'float'>)((10+2j), <class 'complex'>)\n",
      "2 all Sequence data type ([1, 2, 3], <class 'list'>)((1, 2, 3), <class 'tuple'>)(range(0, 10), <class 'range'>)\n",
      "3 {'number': [1, 2, 3]} <class 'dict'>\n",
      "4 {1, 2, 3} <class 'set'> frozenset({'orange', 'banana', 'apple'}) <class 'frozenset'>\n",
      "5 True <class 'bool'>\n"
     ]
    }
   ],
   "source": [
    "#**************************************************************\n",
    "# Built-in Data Types\n",
    "# Variables can store data of different types, and different types can do different things.\n",
    "\n",
    "# Python has the following data types built-in by default, in these categories:\n",
    "\n",
    "# Text Type:\tstr\n",
    "# Numeric Types:\tint, float, complex\n",
    "int_type,float_type,complex_type=10,10.55,i+2j\n",
    "print(f\"1 all numeric data type {int_type,type(int_type)}{float_type,type(float_type)}{complex_type,type(complex_type)}\")\n",
    "# Sequence Types:\tlist, tuple, range\n",
    "list_type,tuple_type,range_type=[1,2,3],(1,2,3),range(10)\n",
    "print(f\"2 all Sequence data type {list_type,type(list_type)}{tuple_type,type(tuple_type)}{range_type,type(range_type)}\")\n",
    "# Mapping Type:\tdict\n",
    "dict_type={'number':[1,2,3]}\n",
    "print(3,dict_type,type(dict_type))\n",
    "# Set Types:\tset, frozenset\n",
    "set_type,frozenset_type={1,2,3},frozenset([\"apple\", \"banana\", \"orange\"])\n",
    "print(4,set_type,type(set_type),frozenset_type,type(frozenset_type))\n",
    "# Boolean Type:\tbool\n",
    "bool_type=True or False\n",
    "print(5,bool_type,type(bool_type))\n",
    "# Binary Types:\tbytes, bytearray, memoryview\n",
    "# None Type:\tNoneType"
   ]
  },
  {
   "cell_type": "code",
   "execution_count": null,
   "id": "c9d74034",
   "metadata": {},
   "outputs": [],
   "source": [
    "#python operator\n",
    "# In Python, operators are special symbols or keywords that perform operations on one or more operands (values or variables). Python provides a wide range of operators for various purposes, including arithmetic operations, comparison, logical operations, assignment, membership testing, identity testing, and more. Here are some commonly used operators in Python:\n",
    "\n",
    "# Arithmetic Operators:\n",
    "\n",
    "# + Addition\n",
    "# - Subtraction\n",
    "# * Multiplication\n",
    "# / Division\n",
    "# % Modulo (remainder)\n",
    "# ** Exponentiation\n",
    "# // Floor Division\n",
    "# Comparison Operators:\n",
    "\n",
    "# == Equal to\n",
    "# != Not equal to\n",
    "# < Less than\n",
    "# > Greater than\n",
    "# <= Less than or equal to\n",
    "# >= Greater than or equal to\n",
    "# Logical Operators:\n",
    "\n",
    "# and Logical AND\n",
    "# or Logical OR\n",
    "# not Logical NOT\n",
    "# Assignment Operators:\n",
    "\n",
    "# = Assign a value\n",
    "# += Add and assign\n",
    "# -= Subtract and assign\n",
    "# *= Multiply and assign\n",
    "# /= Divide and assign\n",
    "# %= Modulo and assign\n",
    "# **= Exponentiate and assign\n",
    "# //= Floor divide and assign\n",
    "# Membership Operators:\n",
    "\n",
    "# in Checks if an element is present in a sequence\n",
    "# not in Checks if an element is not present in a sequence\n",
    "# Identity Operators:\n",
    "\n",
    "# is Checks if two variables refer to the same object\n",
    "# is not Checks if two variables refer to different objects"
   ]
  },
  {
   "cell_type": "code",
   "execution_count": 11,
   "id": "3cf85251",
   "metadata": {},
   "outputs": [
    {
     "name": "stdout",
     "output_type": "stream",
     "text": [
      "Addition operator 3\n",
      "Subtraction operator 1\n",
      "Multiplication operator 2\n",
      "Division operator 9.0\n",
      "Modulo (remainder) operator 1\n",
      "Exponentiation operator 3125\n",
      "Floor Division operator 2\n",
      "Equal to operator True False\n",
      "Not equal to True False\n",
      "Less than operator True False\n",
      "Greater than operator True False\n",
      "Less than or equal to operator False True\n",
      "Greater than or equal to operator False\n",
      "and Logical AND operator True\n",
      "or Logical OR operator True\n",
      "not Logical NOT operator True\n",
      " = Assign a value 2\n",
      "+= Add and assign 1\n",
      "-= Subtract and assign -1\n",
      "*= Multiply and assign -2\n",
      "/= Divide and assign -1.0\n",
      "%= Modulo and assign 1.0\n",
      "**= Exponentiate and assign 1.0\n",
      "//= Floor divide and assign 0.0\n",
      " in Checks if an element is present in a sequence 0.0\n",
      "not in Checks if an element is not present in a sequence True\n",
      "is Checks if two variables refer to the same object True\n",
      "is not Checks if two variables refer to different objects True\n"
     ]
    }
   ],
   "source": [
    "#********************************Arithmetic Operators********************************\n",
    "print(\"Addition operator\",2+1)\n",
    "print(\"Subtraction operator\",2-1)\n",
    "print(\"Multiplication operator\",2*1)\n",
    "print(\"Division operator\",81/9)\n",
    "print(\"Modulo (remainder) operator\",9%8)\n",
    "print(\"Exponentiation operator\",5**5)\n",
    "print(\"Floor Division operator\",22//10)\n",
    "#********************************Comparison Operators********************************\n",
    "print(\"Equal to operator\",2==2,2==1)\n",
    "print(\"Not equal to\",2!=1,2!=2)\n",
    "print(\"Less than operator\",2<3,3<2)\n",
    "print(\"Greater than operator\",2>1,1>2)\n",
    "print(\"Less than or equal to operator\",2<=1,1<=2)\n",
    "print(\"Greater than or equal to operator\",2>=1.1>=2)\n",
    "#********************************Logical Operators********************************\n",
    "print(\"and Logical AND operator\",2==2 and 3==3)\n",
    "print(\"or Logical OR operator\",2==1 or 3==3)\n",
    "print(\"not Logical NOT operator\" ,not 10 > 15)\n",
    "#********************************Assignment Operators********************************\n",
    "a=2\n",
    "print(\" = Assign a value\",a)\n",
    "a=+1\n",
    "print(\"+= Add and assign\",a)\n",
    "a=-1\n",
    "print(\"-= Subtract and assign\",a)\n",
    "a*=2\n",
    "print(\"*= Multiply and assign\",a)\n",
    "a/=2\n",
    "print(\"/= Divide and assign\",a)\n",
    "a%=2\n",
    "print(\"%= Modulo and assign\",a)\n",
    "a**=2\n",
    "print(\"**= Exponentiate and assign\",a)\n",
    "a//=2\n",
    "print(\"//= Floor divide and assign\",a)\n",
    "#********************************Membership Operators:********************************\n",
    "l=[1,2,3]\n",
    "if a in l:\n",
    "    a=True\n",
    "print(\" in Checks if an element is present in a sequence\", a)\n",
    "if a not in l:\n",
    "    a=True\n",
    "print(\"not in Checks if an element is not present in a sequence\",a)\n",
    "\n",
    "#********************************Identity Operators:********************************\n",
    "if a is l:\n",
    "    a=True\n",
    "print(\"is Checks if two variables refer to the same object\",a)\n",
    "if a is not l:\n",
    "    a=True\n",
    "print(\"is not Checks if two variables refer to different objects\",a)\n"
   ]
  },
  {
   "cell_type": "code",
   "execution_count": null,
   "id": "0b704972",
   "metadata": {},
   "outputs": [],
   "source": []
  }
 ],
 "metadata": {
  "kernelspec": {
   "display_name": "Python 3 (ipykernel)",
   "language": "python",
   "name": "python3"
  },
  "language_info": {
   "codemirror_mode": {
    "name": "ipython",
    "version": 3
   },
   "file_extension": ".py",
   "mimetype": "text/x-python",
   "name": "python",
   "nbconvert_exporter": "python",
   "pygments_lexer": "ipython3",
   "version": "3.10.11"
  }
 },
 "nbformat": 4,
 "nbformat_minor": 5
}
